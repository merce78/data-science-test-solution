{
 "cells": [
  {
   "cell_type": "markdown",
   "metadata": {},
   "source": [
    "# Solution development.\n",
    "\n",
    "## Scenario one: we can measure rental date for 100% of the trips.\n",
    "\n",
    "Let's start by loading the simulated data. \n",
    "As stated in the challenge statement, we can only use the rental date of each RPC. We don't know the return date or the duration of the trip.    "
   ]
  },
  {
   "cell_type": "code",
   "execution_count": 86,
   "metadata": {},
   "outputs": [],
   "source": [
    "import pandas as pd\n",
    "import matplotlib.pyplot as plt\n",
    "import numpy as np\n",
    "from datetime import datetime , timedelta"
   ]
  },
  {
   "cell_type": "code",
   "execution_count": null,
   "metadata": {},
   "outputs": [
    {
     "data": {
      "text/html": [
       "<div>\n",
       "<style scoped>\n",
       "    .dataframe tbody tr th:only-of-type {\n",
       "        vertical-align: middle;\n",
       "    }\n",
       "\n",
       "    .dataframe tbody tr th {\n",
       "        vertical-align: top;\n",
       "    }\n",
       "\n",
       "    .dataframe thead th {\n",
       "        text-align: right;\n",
       "    }\n",
       "</style>\n",
       "<table border=\"1\" class=\"dataframe\">\n",
       "  <thead>\n",
       "    <tr style=\"text-align: right;\">\n",
       "      <th></th>\n",
       "      <th>rpc_id</th>\n",
       "      <th>rental_date</th>\n",
       "    </tr>\n",
       "  </thead>\n",
       "  <tbody>\n",
       "    <tr>\n",
       "      <th>0</th>\n",
       "      <td>890</td>\n",
       "      <td>2021-09-26</td>\n",
       "    </tr>\n",
       "    <tr>\n",
       "      <th>1</th>\n",
       "      <td>3286</td>\n",
       "      <td>2020-08-20</td>\n",
       "    </tr>\n",
       "    <tr>\n",
       "      <th>2</th>\n",
       "      <td>378</td>\n",
       "      <td>2021-01-24</td>\n",
       "    </tr>\n",
       "    <tr>\n",
       "      <th>3</th>\n",
       "      <td>1512</td>\n",
       "      <td>2020-05-15</td>\n",
       "    </tr>\n",
       "    <tr>\n",
       "      <th>4</th>\n",
       "      <td>4867</td>\n",
       "      <td>2020-04-01</td>\n",
       "    </tr>\n",
       "  </tbody>\n",
       "</table>\n",
       "</div>"
      ],
      "text/plain": [
       "   rpc_id rental_date\n",
       "0     890  2021-09-26\n",
       "1    3286  2020-08-20\n",
       "2     378  2021-01-24\n",
       "3    1512  2020-05-15\n",
       "4    4867  2020-04-01"
      ]
     },
     "execution_count": 87,
     "metadata": {},
     "output_type": "execute_result"
    }
   ],
   "source": [
    "\n",
    "trip_mean_days = 100\n",
    "df0 = pd.read_csv(\"data/rpc_rents.csv\")\n",
    "\n",
    "## keep only rpc_id and rental_date columns\n",
    "df = df0[[\"rpc_id\",\"rental_date\"]]\n",
    "df.head()"
   ]
  },
  {
   "cell_type": "markdown",
   "metadata": {},
   "source": [
    "As a first step, we will explore the data. "
   ]
  },
  {
   "cell_type": "code",
   "execution_count": 88,
   "metadata": {},
   "outputs": [
    {
     "data": {
      "text/plain": [
       "(74586, 2)"
      ]
     },
     "execution_count": 88,
     "metadata": {},
     "output_type": "execute_result"
    }
   ],
   "source": [
    "df.shape"
   ]
  },
  {
   "cell_type": "code",
   "execution_count": 89,
   "metadata": {},
   "outputs": [
    {
     "data": {
      "text/plain": [
       "5000"
      ]
     },
     "execution_count": 89,
     "metadata": {},
     "output_type": "execute_result"
    }
   ],
   "source": [
    "df.rpc_id.nunique()"
   ]
  },
  {
   "cell_type": "code",
   "execution_count": 90,
   "metadata": {},
   "outputs": [
    {
     "data": {
      "text/plain": [
       "'2020-01-01'"
      ]
     },
     "execution_count": 90,
     "metadata": {},
     "output_type": "execute_result"
    }
   ],
   "source": [
    "df.rental_date.min()"
   ]
  },
  {
   "cell_type": "markdown",
   "metadata": {},
   "source": [
    "We have a dataset with 74586 rentals (or trips) from 5000 different assets, and the first rental was on January 1, 2020.\n",
    "Given that today is November 16, 2024. We have 4 years and almost 11 months of data.  \n",
    "\n",
    "### Shrinking date estimation\n",
    "\n",
    "We know that the real mean duration of a trip is 100 days. The first question that comes to my mind is: after how many days can we consider an RPC to be lost? \n",
    "To answer this question, let's see what is the time difference between two rentals. Since we don't know the return date and we don't know how long an asset is waiting in the pool we can approximate the duration of each trip by looking at that number. "
   ]
  },
  {
   "cell_type": "code",
   "execution_count": 91,
   "metadata": {},
   "outputs": [
    {
     "name": "stdout",
     "output_type": "stream",
     "text": [
      "       rpc_id rental_date  diff_days\n",
      "36388       0  2020-01-11       81.0\n",
      "45901       0  2020-04-01      144.0\n",
      "66715       0  2020-08-23       69.0\n",
      "10513       0  2020-10-31       86.0\n",
      "57968       0  2021-01-25      138.0\n",
      "...       ...         ...        ...\n",
      "44003    4999  2023-10-25      143.0\n",
      "11136    4999  2024-03-16       61.0\n",
      "18836    4999  2024-05-16      126.0\n",
      "31534    4999  2024-09-19       53.0\n",
      "11000    4999  2024-11-11        NaN\n",
      "\n",
      "[74586 rows x 3 columns]\n"
     ]
    },
    {
     "name": "stderr",
     "output_type": "stream",
     "text": [
      "/tmp/ipykernel_129568/72152160.py:1: SettingWithCopyWarning: \n",
      "A value is trying to be set on a copy of a slice from a DataFrame.\n",
      "Try using .loc[row_indexer,col_indexer] = value instead\n",
      "\n",
      "See the caveats in the documentation: https://pandas.pydata.org/pandas-docs/stable/user_guide/indexing.html#returning-a-view-versus-a-copy\n",
      "  df[\"rental_date\"] = pd.to_datetime(df[\"rental_date\"])\n"
     ]
    }
   ],
   "source": [
    "df[\"rental_date\"] = pd.to_datetime(df[\"rental_date\"])\n",
    "df = df.sort_values(by=['rpc_id', 'rental_date'])\n",
    "df[\"diff_days\"] = df.groupby(\"rpc_id\")[\"rental_date\"].diff().dt.days\n",
    "df[\"diff_days\"] = df.groupby(\"rpc_id\")[\"diff_days\"].shift(-1)\n",
    "\n",
    "print(df)"
   ]
  },
  {
   "cell_type": "code",
   "execution_count": 92,
   "metadata": {},
   "outputs": [
    {
     "data": {
      "image/png": "[encoded data removed]",
      "text/plain": [
       "<Figure size 640x480 with 1 Axes>"
      ]
     },
     "metadata": {},
     "output_type": "display_data"
    }
   ],
   "source": [
    "plt.hist(df['diff_days'], bins = 50, color = 'blue')\n",
    "\n",
    "plt.title(\"Days between an RPC rental\")\n",
    "plt.xlabel(\"Days\")\n",
    "plt.ylabel(\"Frequency\")\n",
    "\n",
    "plt.show()"
   ]
  },
  {
   "cell_type": "code",
   "execution_count": 103,
   "metadata": {},
   "outputs": [
    {
     "name": "stdout",
     "output_type": "stream",
     "text": [
      "Maximum number of days between rentals: 375.0\n",
      "Average number of days between rentals: 113.0592647946426\n"
     ]
    }
   ],
   "source": [
    "print(\"Maximum number of days between rentals:\", df.diff_days.max())\n",
    "print(\"Average number of days between rentals:\", df.diff_days.mean())\n",
    "average_days_between_rentals = df.diff_days.mean()"
   ]
  },
  {
   "cell_type": "markdown",
   "metadata": {},
   "source": [
    "As we know, the average duration of a trip is 100 days. From the above calculation we can assume that an asset stays in the SC 13 days on average. \n",
    "We could subtract 13 days from the difference to have a more accurate estimate of the trip duration, but this is not relevant information for calculating the probability of loss. \n",
    "\n",
    "Let's look at other statistical information. One possible method to answer the question “When can we consider an asset lost?” is to calculate the IQR. Since we are not working with a normal distribution, we need to normalize our data to calculate that limit. "
   ]
  },
  {
   "cell_type": "code",
   "execution_count": 104,
   "metadata": {},
   "outputs": [
    {
     "name": "stdout",
     "output_type": "stream",
     "text": [
      "Rentals that take longer than 230 until the next rental are outliers.\n"
     ]
    }
   ],
   "source": [
    "df[\"log_diff_days\"] = np.log(df.diff_days)\n",
    "q1 = df.log_diff_days.quantile(0.25)\n",
    "q3 = df.log_diff_days.quantile(0.75)\n",
    "iqr = q3-q1\n",
    "log_upper_limit = q3 + 1.5*iqr\n",
    "upper_limit = np.exp(log_upper_limit)\n",
    "upper_limit = int(round(upper_limit,0))\n",
    "print(f\"Rentals that take longer than {upper_limit} until the next rental are outliers.\")\n",
    "\n"
   ]
  },
  {
   "cell_type": "markdown",
   "metadata": {},
   "source": [
    "Therefore, we will assume that if an asset is not rented again in 230 days (upper_limit_value) we can consider it lost.\n",
    "Lets identify in our dataset the lost assets.  \n",
    "We will consider an asset that was last rented more than 230 days ago as lost. \n",
    "To start with, we will discard those rentals that started less than 230 days ago, since those assets can still be returned. We will not consider them for the analysis."
   ]
  },
  {
   "cell_type": "code",
   "execution_count": 95,
   "metadata": {},
   "outputs": [
    {
     "name": "stdout",
     "output_type": "stream",
     "text": [
      "       rpc_id rental_date  diff_days  log_diff_days\n",
      "36388       0  2020-01-11       81.0       4.394449\n",
      "45901       0  2020-04-01      144.0       4.969813\n",
      "66715       0  2020-08-23       69.0       4.234107\n",
      "10513       0  2020-10-31       86.0       4.454347\n",
      "57968       0  2021-01-25      138.0       4.927254\n",
      "...       ...         ...        ...            ...\n",
      "56434    4999  2022-11-05      116.0       4.753590\n",
      "11765    4999  2023-03-01       90.0       4.499810\n",
      "37577    4999  2023-05-30      148.0       4.997212\n",
      "44003    4999  2023-10-25      143.0       4.962845\n",
      "11136    4999  2024-03-16       61.0       4.110874\n",
      "\n",
      "[65844 rows x 4 columns]\n"
     ]
    }
   ],
   "source": [
    "df1 = df[df[\"rental_date\"] < (datetime.today() - timedelta(days=int(upper_limit)))]\n",
    "print(df1)"
   ]
  },
  {
   "cell_type": "markdown",
   "metadata": {},
   "source": [
    "From this last data frame, all rentals (rows) that have an empty diff_days value are lost assets.\n"
   ]
  },
  {
   "cell_type": "code",
   "execution_count": 96,
   "metadata": {},
   "outputs": [
    {
     "name": "stdout",
     "output_type": "stream",
     "text": [
      " From 65844 rentals, in 689 of them the RPC was lost\n"
     ]
    }
   ],
   "source": [
    "rental_losts = pd.isna(df1.diff_days).sum()\n",
    "print(f\" From {df1.shape[0]} rentals, in {rental_losts} of them the RPC was lost\")\n",
    "\n"
   ]
  },
  {
   "cell_type": "code",
   "execution_count": 97,
   "metadata": {},
   "outputs": [
    {
     "name": "stdout",
     "output_type": "stream",
     "text": [
      "Lost probability: 0.010464127331267845\n",
      "Therefore, the shrinkage rate according to the data provided is 1.0%\n"
     ]
    }
   ],
   "source": [
    "lost_prob = rental_losts/df1.shape[0]\n",
    "print(\"Lost probability:\", lost_prob)\n",
    "print(f\"Therefore, the shrinkage rate according to the data provided is {round(lost_prob*100,1)}%\")\n"
   ]
  },
  {
   "cell_type": "markdown",
   "metadata": {},
   "source": [
    "### Pool size estimation\n",
    "\n",
    "It is not entirely clear to me whether the question about the size of the pool refers to the total number of assets, including those that are rented. \n",
    "If so, the calculation would be as follows.\n",
    "\n",
    "If:\n",
    " - n0 is the number of assets in the first day (t0).\n",
    " - p is the shrinkage rate, (lost asset probability)\n",
    " - t, is the number of days since t0 (business start).\n",
    " - n is the number of assets remaining (not lost)\n",
    "\n",
    " Then \n",
    "\n",
    " We can estimate the number of times a RPC has been rented as $$ r_t = [t/113] $$\n",
    "\n",
    " and therefore:\n",
    "\n",
    " $$ n_t = n_0*(1-p)^{r_t} $$\n",
    "\n",
    " I have used 113 instead of 100 because this is the average number of days between rentals according to the data. Using [t/113] we try to estimate the number of rentals at that time.\n",
    "\n",
    "If we want to calculate an estimate of the number of assets we have in IFCO SC that are available for rent we need to know the number of assets not currently lost and the probability that the asset is not on a trip. \n",
    "\n",
    "We know that, on average, an RPC is rented every 113 days, and that the average trip is 100 days. Then we can assume that the probability of finding an asset in the SC is (113 - 100)/113. Which results in 0.115.\n",
    "\n",
    "Therefore, the formula for calculating the estimate of the number of assets available in the SC is:\n",
    "\n",
    "$$ np_t = n_t * 0.115 $$\n",
    "\n",
    "Let's do the calculations with one example. \n",
    "\n",
    "\n"
   ]
  },
  {
   "cell_type": "code",
   "execution_count": 102,
   "metadata": {},
   "outputs": [
    {
     "name": "stdout",
     "output_type": "stream",
     "text": [
      "The number of assets not lost at this time is 4795.0\n",
      "From them we can estimate that 554.0 are available in the SC\n"
     ]
    }
   ],
   "source": [
    "t = 450  ## 450 days after the business start\n",
    "pl = lost_prob ## probability of lost one asset in one trip (0.01)\n",
    "pa = (average_days_between_rentals - trip_mean_days)/average_days_between_rentals ## probability of find an asset in the SC (0.115)\n",
    "n0 = df.rpc_id.nunique() # 5000 initial assets\n",
    "\n",
    "\n",
    "# The number of assets remaining is (not lost)\n",
    "nt = n0 * (1-pl)**(t/average_days_between_rentals) ## average_days_between_rentals = 113\n",
    "print(f\"The number of assets not lost at this time is {round(nt,0)}\")\n",
    "print(f\"From them we can estimate that {round(nt*pa,0)} are available in the SC\")\n"
   ]
  }
 ],
 "metadata": {
  "kernelspec": {
   "display_name": ".venv",
   "language": "python",
   "name": "python3"
  },
  "language_info": {
   "codemirror_mode": {
    "name": "ipython",
    "version": 3
   },
   "file_extension": ".py",
   "mimetype": "text/x-python",
   "name": "python",
   "nbconvert_exporter": "python",
   "pygments_lexer": "ipython3",
   "version": "3.12.3"
  }
 },
 "nbformat": 4,
 "nbformat_minor": 2
}
